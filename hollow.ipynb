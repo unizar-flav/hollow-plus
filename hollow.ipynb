{
 "cells": [
  {
   "cell_type": "markdown",
   "metadata": {},
   "source": [
    "# Hollow\n",
    "\n",
    "Jupyter Notebook for simple working with [*Hollow*](https://boscoh.github.io/hollow/) software."
   ]
  },
  {
   "cell_type": "code",
   "execution_count": null,
   "metadata": {
    "cellView": "form"
   },
   "outputs": [],
   "source": [
    "#@title Prepare the environment\n",
    "#@markdown Execute this cell before running the following cells. Only need to be done once, the rest can be run multiple times.\n",
    "%%capture\n",
    "\n",
    "!git clone https://github.com/boscoh/hollow\n",
    "\n",
    "import subprocess\n",
    "from urllib import request\n",
    "\n",
    "try:\n",
    "    from google.colab import files, widgets\n",
    "    google_colab = True\n",
    "except ImportError:\n",
    "    google_colab = False"
   ]
  },
  {
   "cell_type": "code",
   "execution_count": null,
   "metadata": {
    "cellView": "form"
   },
   "outputs": [],
   "source": [
    "#@title Upload pdb\n",
    "#@markdown Write one or several PDB codes (comma separated) to perform the calculation.\n",
    "#@markdown Alternatively, upload one or several pdb files from your local computer.\n",
    "\n",
    "PDB = ''  # @param {type:\"string\"}\n",
    "\n",
    "pdb_files = []\n",
    "if PDB.strip():\n",
    "    pdbs = PDB.split(',')\n",
    "    for pdb in pdbs:\n",
    "        if pdb := pdb.strip():\n",
    "            request.urlretrieve(f'https://files.rcsb.org/download/{pdb}.pdb', f'{pdb}.pdb')\n",
    "            pdb_files.append(f'{pdb}.pdb')\n",
    "elif google_colab:\n",
    "    uploaded = files.upload()\n",
    "    for filename, filestr in uploaded.items():\n",
    "        pdb_files.append(filename)"
   ]
  },
  {
   "cell_type": "code",
   "execution_count": null,
   "metadata": {
    "cellView": "form"
   },
   "outputs": [],
   "source": [
    "#@title Hollow parameters and calculation\n",
    "#@markdown Set the parameters for the hollow calculation.  \n",
    "#@markdown The hollow calculation will be performed for each pdb file uploaded individually. The results will be downloaded at the end.\n",
    "\n",
    "#@markdown Grid spacing in angstroms (default 0.5Å; suggested 0.2Å for final resolution)\n",
    "GRID_SPACING = 0.5  # @param {type:\"number\"}\n",
    "\n",
    "#@markdown Radius of ball to explore cavities (default 1.4Å = 95% x radius of output atom type suggested)\n",
    "INTERIOR_PROBE = 1.4  # @param {type:\"number\"}\n",
    "\n",
    "#@markdown Radius of probe to roll over surface used to define depressions (default 8.0Å)\n",
    "SURFACE_PROBE = 8.0  # @param {type:\"number\"}\n",
    "\n",
    "#@markdown Process water molecules\n",
    "WATER = False  # @param {type:\"boolean\"}\n",
    "\n",
    "#@markdown Radius around a grid point, in which the b-factors of heavy atoms are averaged (0.0=off; suggested=4.0; default=0)\n",
    "BFACTOR_PROBE = 0.0  # @param {type:\"number\"}\n",
    "\n",
    "#@markdown Constrained mode: define a sphere (around atom1) or cylinder (from atom1 to atom2, with offsets) to limit the search\n",
    "CONSTRAINT = \"\"  # @param [\"\", \"sphere\", \"cylinder\"]\n",
    "RADIUS = 13.0  # @param {type:\"number\"}\n",
    "CHAIN1 = 'A'  # @param {type:\"string\"}\n",
    "RES1 = 1  # @param {type:\"integer\"}\n",
    "ATOM1 = 'CA'  # @param {type:\"string\"}\n",
    "OFFSET1 = 0.0  # @param {type:\"number\"}\n",
    "CHAIN2 = 'A'  # @param {type:\"string\"}\n",
    "RES2 = 2  # @param {type:\"integer\"}\n",
    "ATOM2 = 'CA'  # @param {type:\"string\"}\n",
    "OFFSET2 = 0.0  # @param {type:\"number\"}\n",
    "\n",
    "\n",
    "if CONSTRAINT:\n",
    "    with open('constraints.txt', 'w') as f:\n",
    "        f.write(\"{\\n\")\n",
    "        f.write(f\"  'type': '{CONSTRAINT}',\\n\")\n",
    "        f.write(f\"  'remove_asa_shell': True,\\n\")\n",
    "        f.write(f\"  'radius': {RADIUS:.2f},\\n\")\n",
    "        f.write(f\"  'chain1': '{CHAIN1:s}',\\n\")\n",
    "        f.write(f\"  'res_num1': {RES1:d},\\n\")\n",
    "        f.write(f\"  'atom1': '{ATOM1:s}',\\n\")\n",
    "        if CONSTRAINT == 'cylinder':\n",
    "            f.write(f\"  'axis_offset1': {OFFSET1:d},\\n\")\n",
    "            f.write(f\"  'chain2': '{CHAIN2:s}',\\n\")\n",
    "            f.write(f\"  'res_num2': {RES2:d},\\n\")\n",
    "            f.write(f\"  'atom2': '{ATOM2:s}',\\n\")\n",
    "            f.write(f\"  'axis_offset2': {OFFSET2:d},\\n\")\n",
    "        f.write(\"}\\n\")\n",
    "\n",
    "#TODO: fix import mess and use make_hollow_spheres function\n",
    "pdb_hollow_files = []\n",
    "for pdb in pdb_files:\n",
    "    print(f\"####  Running HOLLOW for '{pdb}'\")\n",
    "    hollow_args = f'-g {GRID_SPACING:.2f} -p {INTERIOR_PROBE:.2f} -s {SURFACE_PROBE:.2f} {f\"-w\" if WATER else \"\"} -b {BFACTOR_PROBE:.2f} {f\"-c constraints.txt\" if CONSTRAINT else \"\"} {pdb}'\n",
    "    hollow_run = subprocess.run(f'python3 hollow/hollow.py {hollow_args}', shell=True, capture_output=True)\n",
    "    print(hollow_run.stdout.decode('utf-8'))\n",
    "    if hollow_run.returncode == 0:\n",
    "        pdb_hollow_files.append(pdb.replace('.pdb', '-hollow.pdb'))\n",
    "    else:\n",
    "        print(f\"####  ERROR: HOLLOW failed for '{pdb}'\")\n",
    "\n",
    "for pdb_hollow in pdb_hollow_files:\n",
    "    if google_colab:\n",
    "        files.download(pdb_hollow)"
   ]
  }
 ],
 "metadata": {
  "kernelspec": {
   "display_name": "Python 3",
   "language": "python",
   "name": "python3"
  },
  "language_info": {
   "name": "python",
   "version": "3.11.2"
  }
 },
 "nbformat": 4,
 "nbformat_minor": 2
}
